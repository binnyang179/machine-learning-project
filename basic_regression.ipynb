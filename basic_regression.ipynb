{
 "cells": [
  {
   "cell_type": "code",
   "execution_count": 1,
   "metadata": {
    "ExecuteTime": {
     "end_time": "2019-07-01T23:50:24.979228Z",
     "start_time": "2019-07-01T23:50:09.224846Z"
    },
    "colab": {},
    "colab_type": "code",
    "id": "1rRo8oNqZ-Rj"
   },
   "outputs": [
    {
     "name": "stdout",
     "output_type": "stream",
     "text": [
      "2.0.0-beta1\n"
     ]
    }
   ],
   "source": [
    "from __future__ import absolute_import, division, print_function, unicode_literals\n",
    "\n",
    "import pathlib\n",
    "\n",
    "import matplotlib.pyplot as plt\n",
    "import pandas as pd\n",
    "import seaborn as sns\n",
    "\n",
    "import tensorflow as tf\n",
    "\n",
    "from tensorflow import keras\n",
    "from tensorflow.keras import layers\n",
    "\n",
    "print(tf.__version__)"
   ]
  },
  {
   "cell_type": "code",
   "execution_count": 2,
   "metadata": {
    "ExecuteTime": {
     "end_time": "2019-07-01T23:55:18.688760Z",
     "start_time": "2019-07-01T23:55:15.263506Z"
    },
    "colab": {},
    "colab_type": "code",
    "id": "CiX2FI4gZtTt"
   },
   "outputs": [],
   "source": [
    "raw_dataset = pd.read_csv(\"data/UAI_Data/train_July.csv\")\n",
    "\n",
    "dataset = raw_dataset.copy()"
   ]
  },
  {
   "cell_type": "code",
   "execution_count": 5,
   "metadata": {
    "ExecuteTime": {
     "end_time": "2019-07-01T23:55:34.562120Z",
     "start_time": "2019-07-01T23:55:34.294061Z"
    }
   },
   "outputs": [
    {
     "name": "stdout",
     "output_type": "stream",
     "text": [
      "<class 'pandas.core.frame.DataFrame'>\n",
      "RangeIndex: 892518 entries, 0 to 892517\n",
      "Data columns (total 11 columns):\n",
      "id                   892518 non-null object\n",
      "driver_id            892518 non-null object\n",
      "member_id            892518 non-null object\n",
      "create_date          892518 non-null object\n",
      "create_hour          892518 non-null int64\n",
      "status               892518 non-null int64\n",
      "estimate_money       892518 non-null float64\n",
      "estimate_distance    892518 non-null float64\n",
      "estimate_term        892518 non-null float64\n",
      "start_geo_id         892518 non-null object\n",
      "end_geo_id           892518 non-null object\n",
      "dtypes: float64(3), int64(2), object(6)\n",
      "memory usage: 74.9+ MB\n"
     ]
    }
   ],
   "source": [
    "dataset.info()"
   ]
  },
  {
   "cell_type": "code",
   "execution_count": 22,
   "metadata": {
    "ExecuteTime": {
     "end_time": "2019-07-02T00:07:41.394280Z",
     "start_time": "2019-07-02T00:07:41.391019Z"
    }
   },
   "outputs": [
    {
     "data": {
      "text/plain": [
       "504740"
      ]
     },
     "execution_count": 22,
     "metadata": {},
     "output_type": "execute_result"
    }
   ],
   "source": [
    "len(dataset['id'])"
   ]
  },
  {
   "cell_type": "code",
   "execution_count": 17,
   "metadata": {
    "ExecuteTime": {
     "end_time": "2019-07-02T00:01:29.811023Z",
     "start_time": "2019-07-02T00:01:29.803832Z"
    }
   },
   "outputs": [
    {
     "data": {
      "text/html": [
       "<div>\n",
       "<style scoped>\n",
       "    .dataframe tbody tr th:only-of-type {\n",
       "        vertical-align: middle;\n",
       "    }\n",
       "\n",
       "    .dataframe tbody tr th {\n",
       "        vertical-align: top;\n",
       "    }\n",
       "\n",
       "    .dataframe thead th {\n",
       "        text-align: right;\n",
       "    }\n",
       "</style>\n",
       "<table border=\"1\" class=\"dataframe\">\n",
       "  <thead>\n",
       "    <tr style=\"text-align: right;\">\n",
       "      <th></th>\n",
       "      <th>test_id</th>\n",
       "      <th>start_geo_id</th>\n",
       "      <th>end_geo_id</th>\n",
       "      <th>create_date</th>\n",
       "      <th>create_hour</th>\n",
       "    </tr>\n",
       "  </thead>\n",
       "  <tbody>\n",
       "    <tr>\n",
       "      <th>0</th>\n",
       "      <td>0</td>\n",
       "      <td>3d99665144344fc090b5b7450ffe72f5</td>\n",
       "      <td>3fcb2fe11c0c68c5f7a8d19a04689e1b</td>\n",
       "      <td>2017-08-01</td>\n",
       "      <td>23</td>\n",
       "    </tr>\n",
       "    <tr>\n",
       "      <th>1</th>\n",
       "      <td>1</td>\n",
       "      <td>71adb79e626fb1b09726781fe0c4a7a0</td>\n",
       "      <td>71adb79e626fb1b09726781fe0c4a7a0</td>\n",
       "      <td>2017-08-01</td>\n",
       "      <td>15</td>\n",
       "    </tr>\n",
       "    <tr>\n",
       "      <th>2</th>\n",
       "      <td>2</td>\n",
       "      <td>e8e8612bf79d1c6fb1d74e42d039e912</td>\n",
       "      <td>aa0885cb765d5748a3bc5387a1f18b24</td>\n",
       "      <td>2017-08-01</td>\n",
       "      <td>21</td>\n",
       "    </tr>\n",
       "    <tr>\n",
       "      <th>3</th>\n",
       "      <td>3</td>\n",
       "      <td>27d75f17e61587172fe7a6827bbaa198</td>\n",
       "      <td>f5dc996f6aa097f7a84a9bcfe58ed55c</td>\n",
       "      <td>2017-08-01</td>\n",
       "      <td>23</td>\n",
       "    </tr>\n",
       "    <tr>\n",
       "      <th>4</th>\n",
       "      <td>4</td>\n",
       "      <td>fc285cf482f1014cd81d5ba233ac9569</td>\n",
       "      <td>6d7827e8dcfa09497954a31e6f7e6ee6</td>\n",
       "      <td>2017-08-01</td>\n",
       "      <td>11</td>\n",
       "    </tr>\n",
       "  </tbody>\n",
       "</table>\n",
       "</div>"
      ],
      "text/plain": [
       "   test_id                      start_geo_id  \\\n",
       "0        0  3d99665144344fc090b5b7450ffe72f5   \n",
       "1        1  71adb79e626fb1b09726781fe0c4a7a0   \n",
       "2        2  e8e8612bf79d1c6fb1d74e42d039e912   \n",
       "3        3  27d75f17e61587172fe7a6827bbaa198   \n",
       "4        4  fc285cf482f1014cd81d5ba233ac9569   \n",
       "\n",
       "                         end_geo_id create_date  create_hour  \n",
       "0  3fcb2fe11c0c68c5f7a8d19a04689e1b  2017-08-01           23  \n",
       "1  71adb79e626fb1b09726781fe0c4a7a0  2017-08-01           15  \n",
       "2  aa0885cb765d5748a3bc5387a1f18b24  2017-08-01           21  \n",
       "3  f5dc996f6aa097f7a84a9bcfe58ed55c  2017-08-01           23  \n",
       "4  6d7827e8dcfa09497954a31e6f7e6ee6  2017-08-01           11  "
      ]
     },
     "execution_count": 17,
     "metadata": {},
     "output_type": "execute_result"
    }
   ],
   "source": [
    "test_dataset.head()"
   ]
  },
  {
   "cell_type": "code",
   "execution_count": 8,
   "metadata": {
    "ExecuteTime": {
     "end_time": "2019-07-01T23:59:06.705938Z",
     "start_time": "2019-07-01T23:59:06.587003Z"
    }
   },
   "outputs": [],
   "source": [
    "dataset = dataset[dataset['status']==2]"
   ]
  },
  {
   "cell_type": "code",
   "execution_count": 18,
   "metadata": {
    "ExecuteTime": {
     "end_time": "2019-07-02T00:03:07.376003Z",
     "start_time": "2019-07-02T00:03:07.352992Z"
    }
   },
   "outputs": [],
   "source": [
    "dataset = dataset.drop('driver_id',axis=1)"
   ]
  },
  {
   "cell_type": "code",
   "execution_count": 10,
   "metadata": {
    "ExecuteTime": {
     "end_time": "2019-07-01T23:59:35.606738Z",
     "start_time": "2019-07-01T23:59:35.556154Z"
    }
   },
   "outputs": [],
   "source": [
    "dataset = dataset.drop('member_id',axis=1)"
   ]
  },
  {
   "cell_type": "code",
   "execution_count": 11,
   "metadata": {
    "ExecuteTime": {
     "end_time": "2019-07-01T23:59:37.451392Z",
     "start_time": "2019-07-01T23:59:37.395209Z"
    }
   },
   "outputs": [],
   "source": [
    "dataset = dataset.drop('estimate_money',axis=1)"
   ]
  },
  {
   "cell_type": "code",
   "execution_count": 12,
   "metadata": {
    "ExecuteTime": {
     "end_time": "2019-07-01T23:59:39.554669Z",
     "start_time": "2019-07-01T23:59:39.503642Z"
    }
   },
   "outputs": [],
   "source": [
    "dataset = dataset.drop('estimate_distance',axis=1)"
   ]
  },
  {
   "cell_type": "code",
   "execution_count": 13,
   "metadata": {
    "ExecuteTime": {
     "end_time": "2019-07-01T23:59:41.455680Z",
     "start_time": "2019-07-01T23:59:41.420317Z"
    }
   },
   "outputs": [],
   "source": [
    "dataset = dataset.drop('estimate_term',axis=1)"
   ]
  },
  {
   "cell_type": "code",
   "execution_count": 61,
   "metadata": {
    "ExecuteTime": {
     "end_time": "2019-07-01T16:08:29.757747Z",
     "start_time": "2019-07-01T16:08:29.752354Z"
    }
   },
   "outputs": [],
   "source": [
    "dataset = dataset.drop('id',axis=1)"
   ]
  },
  {
   "cell_type": "code",
   "execution_count": 20,
   "metadata": {
    "ExecuteTime": {
     "end_time": "2019-07-02T00:03:27.165416Z",
     "start_time": "2019-07-02T00:03:27.145518Z"
    }
   },
   "outputs": [],
   "source": [
    "dataset = dataset.drop('status',axis=1)"
   ]
  },
  {
   "cell_type": "code",
   "execution_count": 15,
   "metadata": {
    "ExecuteTime": {
     "end_time": "2019-07-01T14:22:59.737409Z",
     "start_time": "2019-07-01T14:22:54.071469Z"
    }
   },
   "outputs": [
    {
     "data": {
      "text/html": [
       "<div>\n",
       "<style scoped>\n",
       "    .dataframe tbody tr th:only-of-type {\n",
       "        vertical-align: middle;\n",
       "    }\n",
       "\n",
       "    .dataframe tbody tr th {\n",
       "        vertical-align: top;\n",
       "    }\n",
       "\n",
       "    .dataframe thead th {\n",
       "        text-align: right;\n",
       "    }\n",
       "</style>\n",
       "<table border=\"1\" class=\"dataframe\">\n",
       "  <thead>\n",
       "    <tr style=\"text-align: right;\">\n",
       "      <th></th>\n",
       "      <th>id</th>\n",
       "      <th>driver_id</th>\n",
       "      <th>member_id</th>\n",
       "      <th>create_date</th>\n",
       "      <th>create_hour</th>\n",
       "      <th>status</th>\n",
       "      <th>estimate_money</th>\n",
       "      <th>estimate_distance</th>\n",
       "      <th>estimate_term</th>\n",
       "      <th>start_geo_id</th>\n",
       "      <th>end_geo_id</th>\n",
       "    </tr>\n",
       "  </thead>\n",
       "  <tbody>\n",
       "    <tr>\n",
       "      <th>0</th>\n",
       "      <td>583411b46a31bcc5d12d4402c928a146</td>\n",
       "      <td>3e69e17a6e5a726fe44d71896bee4f32</td>\n",
       "      <td>6b4d6e4992191fe96b9f27921520d551</td>\n",
       "      <td>2017-07-01</td>\n",
       "      <td>0</td>\n",
       "      <td>2</td>\n",
       "      <td>140.00</td>\n",
       "      <td>20099.0</td>\n",
       "      <td>18.0</td>\n",
       "      <td>6d7827e8dcfa09497954a31e6f7e6ee6</td>\n",
       "      <td>85e49ded1fa70a7bfa01ab0212a6e538</td>\n",
       "    </tr>\n",
       "    <tr>\n",
       "      <th>1</th>\n",
       "      <td>396b6e317f915352d3a19f61d2657c46</td>\n",
       "      <td>034f5860624827a65191a9be919fbb3d</td>\n",
       "      <td>c7c93facfd1b10d4e75ff14f479484e2</td>\n",
       "      <td>2017-07-01</td>\n",
       "      <td>0</td>\n",
       "      <td>2</td>\n",
       "      <td>78.00</td>\n",
       "      <td>9000.0</td>\n",
       "      <td>18.0</td>\n",
       "      <td>27d75f17e61587172fe7a6827bbaa198</td>\n",
       "      <td>f5dc996f6aa097f7a84a9bcfe58ed55c</td>\n",
       "    </tr>\n",
       "    <tr>\n",
       "      <th>2</th>\n",
       "      <td>c0badb35d04b00b06c54a285abde6e1b</td>\n",
       "      <td>d41d8cd98f00b204e9800998ecf8427e</td>\n",
       "      <td>8325f79b82f697dcce557b4a08f2ae5d</td>\n",
       "      <td>2017-07-01</td>\n",
       "      <td>0</td>\n",
       "      <td>1</td>\n",
       "      <td>86.23</td>\n",
       "      <td>10323.0</td>\n",
       "      <td>20.0</td>\n",
       "      <td>f92dfcc31699ad56d967a57673b8fc65</td>\n",
       "      <td>8c269e40d177f46840aff30baeb25e29</td>\n",
       "    </tr>\n",
       "    <tr>\n",
       "      <th>3</th>\n",
       "      <td>9c67ee57c2217c3b2211a66b120d77b2</td>\n",
       "      <td>e4c4e24edd254bb81fc6e3fe7a1a5dd4</td>\n",
       "      <td>bee163f2587d01a9fd9070be4c1e24fc</td>\n",
       "      <td>2017-07-01</td>\n",
       "      <td>0</td>\n",
       "      <td>1</td>\n",
       "      <td>81.88</td>\n",
       "      <td>14197.0</td>\n",
       "      <td>27.0</td>\n",
       "      <td>92e1e8020813ef939183e345626b442a</td>\n",
       "      <td>f80c4ceeb36264b42e34d6c4c2cb9b4c</td>\n",
       "    </tr>\n",
       "    <tr>\n",
       "      <th>4</th>\n",
       "      <td>fbd6734ac4938fab06546db06de9b3a9</td>\n",
       "      <td>d41d8cd98f00b204e9800998ecf8427e</td>\n",
       "      <td>644f9f79d6a02a71f048562aad301642</td>\n",
       "      <td>2017-07-01</td>\n",
       "      <td>2</td>\n",
       "      <td>1</td>\n",
       "      <td>217.01</td>\n",
       "      <td>39150.0</td>\n",
       "      <td>40.0</td>\n",
       "      <td>ca902ab284d4bb9e8c2a0bb58d55cf7b</td>\n",
       "      <td>6da3e22032d543214b2893d1c9f2b9e1</td>\n",
       "    </tr>\n",
       "  </tbody>\n",
       "</table>\n",
       "</div>"
      ],
      "text/plain": [
       "                                 id                         driver_id  \\\n",
       "0  583411b46a31bcc5d12d4402c928a146  3e69e17a6e5a726fe44d71896bee4f32   \n",
       "1  396b6e317f915352d3a19f61d2657c46  034f5860624827a65191a9be919fbb3d   \n",
       "2  c0badb35d04b00b06c54a285abde6e1b  d41d8cd98f00b204e9800998ecf8427e   \n",
       "3  9c67ee57c2217c3b2211a66b120d77b2  e4c4e24edd254bb81fc6e3fe7a1a5dd4   \n",
       "4  fbd6734ac4938fab06546db06de9b3a9  d41d8cd98f00b204e9800998ecf8427e   \n",
       "\n",
       "                          member_id create_date  create_hour  status  \\\n",
       "0  6b4d6e4992191fe96b9f27921520d551  2017-07-01            0       2   \n",
       "1  c7c93facfd1b10d4e75ff14f479484e2  2017-07-01            0       2   \n",
       "2  8325f79b82f697dcce557b4a08f2ae5d  2017-07-01            0       1   \n",
       "3  bee163f2587d01a9fd9070be4c1e24fc  2017-07-01            0       1   \n",
       "4  644f9f79d6a02a71f048562aad301642  2017-07-01            2       1   \n",
       "\n",
       "   estimate_money  estimate_distance  estimate_term  \\\n",
       "0          140.00            20099.0           18.0   \n",
       "1           78.00             9000.0           18.0   \n",
       "2           86.23            10323.0           20.0   \n",
       "3           81.88            14197.0           27.0   \n",
       "4          217.01            39150.0           40.0   \n",
       "\n",
       "                       start_geo_id                        end_geo_id  \n",
       "0  6d7827e8dcfa09497954a31e6f7e6ee6  85e49ded1fa70a7bfa01ab0212a6e538  \n",
       "1  27d75f17e61587172fe7a6827bbaa198  f5dc996f6aa097f7a84a9bcfe58ed55c  \n",
       "2  f92dfcc31699ad56d967a57673b8fc65  8c269e40d177f46840aff30baeb25e29  \n",
       "3  92e1e8020813ef939183e345626b442a  f80c4ceeb36264b42e34d6c4c2cb9b4c  \n",
       "4  ca902ab284d4bb9e8c2a0bb58d55cf7b  6da3e22032d543214b2893d1c9f2b9e1  "
      ]
     },
     "execution_count": 15,
     "metadata": {},
     "output_type": "execute_result"
    }
   ],
   "source": [
    "# dataset.to_csv('data/dataset_clean.csv')\n",
    "dataset.head()"
   ]
  },
  {
   "cell_type": "code",
   "execution_count": 9,
   "metadata": {
    "ExecuteTime": {
     "end_time": "2019-07-01T14:19:56.854841Z",
     "start_time": "2019-07-01T14:19:56.841443Z"
    }
   },
   "outputs": [],
   "source": [
    "raw_weather_dataset = pd.read_csv(\"data/UAI_Data/weather.csv\")\n",
    "weather_dataset = raw_weather_dataset.copy()\n",
    "weather_dataset['date'] = pd.to_datetime(weather_dataset['date'])\n",
    "weather_dataset['date'] = weather_dataset['date'].astype('str')\n",
    "\n",
    "weather_dataset['date'] = weather_dataset['date'].str.slice(0,10)"
   ]
  },
  {
   "cell_type": "code",
   "execution_count": 14,
   "metadata": {
    "ExecuteTime": {
     "end_time": "2019-07-01T14:22:15.991926Z",
     "start_time": "2019-07-01T14:22:15.962367Z"
    }
   },
   "outputs": [
    {
     "data": {
      "text/html": [
       "<div>\n",
       "<style scoped>\n",
       "    .dataframe tbody tr th:only-of-type {\n",
       "        vertical-align: middle;\n",
       "    }\n",
       "\n",
       "    .dataframe tbody tr th {\n",
       "        vertical-align: top;\n",
       "    }\n",
       "\n",
       "    .dataframe thead th {\n",
       "        text-align: right;\n",
       "    }\n",
       "</style>\n",
       "<table border=\"1\" class=\"dataframe\">\n",
       "  <thead>\n",
       "    <tr style=\"text-align: right;\">\n",
       "      <th></th>\n",
       "      <th>date</th>\n",
       "      <th>text</th>\n",
       "      <th>code</th>\n",
       "      <th>temperature</th>\n",
       "      <th>feels_like</th>\n",
       "      <th>pressure</th>\n",
       "      <th>humidity</th>\n",
       "      <th>visibility</th>\n",
       "      <th>wind_direction</th>\n",
       "      <th>wind_direction_degree</th>\n",
       "      <th>wind_speed</th>\n",
       "      <th>wind_scale</th>\n",
       "    </tr>\n",
       "  </thead>\n",
       "  <tbody>\n",
       "    <tr>\n",
       "      <th>0</th>\n",
       "      <td>2017-07-01</td>\n",
       "      <td>晴</td>\n",
       "      <td>1</td>\n",
       "      <td>29</td>\n",
       "      <td>28.0</td>\n",
       "      <td>998</td>\n",
       "      <td>62</td>\n",
       "      <td>9.3</td>\n",
       "      <td>南</td>\n",
       "      <td>200</td>\n",
       "      <td>9.00</td>\n",
       "      <td>2</td>\n",
       "    </tr>\n",
       "    <tr>\n",
       "      <th>1</th>\n",
       "      <td>2017-07-01</td>\n",
       "      <td>晴</td>\n",
       "      <td>1</td>\n",
       "      <td>28</td>\n",
       "      <td>28.0</td>\n",
       "      <td>998</td>\n",
       "      <td>63</td>\n",
       "      <td>7.7</td>\n",
       "      <td>西南</td>\n",
       "      <td>233</td>\n",
       "      <td>7.92</td>\n",
       "      <td>2</td>\n",
       "    </tr>\n",
       "    <tr>\n",
       "      <th>2</th>\n",
       "      <td>2017-07-01</td>\n",
       "      <td>晴</td>\n",
       "      <td>1</td>\n",
       "      <td>28</td>\n",
       "      <td>28.0</td>\n",
       "      <td>998</td>\n",
       "      <td>65</td>\n",
       "      <td>7.7</td>\n",
       "      <td>南</td>\n",
       "      <td>197</td>\n",
       "      <td>7.20</td>\n",
       "      <td>2</td>\n",
       "    </tr>\n",
       "    <tr>\n",
       "      <th>3</th>\n",
       "      <td>2017-07-01</td>\n",
       "      <td>晴</td>\n",
       "      <td>1</td>\n",
       "      <td>28</td>\n",
       "      <td>27.0</td>\n",
       "      <td>998</td>\n",
       "      <td>66</td>\n",
       "      <td>7.7</td>\n",
       "      <td>西南</td>\n",
       "      <td>233</td>\n",
       "      <td>9.00</td>\n",
       "      <td>2</td>\n",
       "    </tr>\n",
       "    <tr>\n",
       "      <th>4</th>\n",
       "      <td>2017-07-01</td>\n",
       "      <td>晴</td>\n",
       "      <td>1</td>\n",
       "      <td>28</td>\n",
       "      <td>27.0</td>\n",
       "      <td>998</td>\n",
       "      <td>67</td>\n",
       "      <td>6.6</td>\n",
       "      <td>南</td>\n",
       "      <td>180</td>\n",
       "      <td>7.20</td>\n",
       "      <td>2</td>\n",
       "    </tr>\n",
       "  </tbody>\n",
       "</table>\n",
       "</div>"
      ],
      "text/plain": [
       "         date text  code  temperature  feels_like  pressure  humidity  \\\n",
       "0  2017-07-01    晴     1           29        28.0       998        62   \n",
       "1  2017-07-01    晴     1           28        28.0       998        63   \n",
       "2  2017-07-01    晴     1           28        28.0       998        65   \n",
       "3  2017-07-01    晴     1           28        27.0       998        66   \n",
       "4  2017-07-01    晴     1           28        27.0       998        67   \n",
       "\n",
       "   visibility wind_direction  wind_direction_degree  wind_speed  wind_scale  \n",
       "0         9.3              南                    200        9.00           2  \n",
       "1         7.7             西南                    233        7.92           2  \n",
       "2         7.7              南                    197        7.20           2  \n",
       "3         7.7             西南                    233        9.00           2  \n",
       "4         6.6              南                    180        7.20           2  "
      ]
     },
     "execution_count": 14,
     "metadata": {},
     "output_type": "execute_result"
    }
   ],
   "source": [
    "weather_dataset.head()"
   ]
  },
  {
   "cell_type": "code",
   "execution_count": 108,
   "metadata": {
    "ExecuteTime": {
     "end_time": "2019-07-01T12:31:52.823938Z",
     "start_time": "2019-07-01T12:31:52.470910Z"
    }
   },
   "outputs": [],
   "source": [
    "# train_dataset = pd.merge(dataset, weather_dataset, how='outer', left_on='create_date',right_on='date')\n"
   ]
  },
  {
   "cell_type": "code",
   "execution_count": 18,
   "metadata": {
    "ExecuteTime": {
     "end_time": "2019-07-01T14:35:55.926995Z",
     "start_time": "2019-07-01T14:35:55.897562Z"
    }
   },
   "outputs": [
    {
     "data": {
      "text/html": [
       "<div>\n",
       "<style scoped>\n",
       "    .dataframe tbody tr th:only-of-type {\n",
       "        vertical-align: middle;\n",
       "    }\n",
       "\n",
       "    .dataframe tbody tr th {\n",
       "        vertical-align: top;\n",
       "    }\n",
       "\n",
       "    .dataframe thead th {\n",
       "        text-align: right;\n",
       "    }\n",
       "</style>\n",
       "<table border=\"1\" class=\"dataframe\">\n",
       "  <thead>\n",
       "    <tr style=\"text-align: right;\">\n",
       "      <th></th>\n",
       "      <th>829fd9e04ed5f0e2148096737edb8a73</th>\n",
       "      <th>加油站</th>\n",
       "      <th>0</th>\n",
       "      <th>超市</th>\n",
       "      <th>0.1</th>\n",
       "      <th>住宅区</th>\n",
       "      <th>1</th>\n",
       "      <th>地铁站</th>\n",
       "      <th>0.2</th>\n",
       "      <th>公交站</th>\n",
       "      <th>...</th>\n",
       "      <th>咖啡厅</th>\n",
       "      <th>0.3</th>\n",
       "      <th>中餐厅</th>\n",
       "      <th>0.4</th>\n",
       "      <th>ATM</th>\n",
       "      <th>0.5</th>\n",
       "      <th>写字楼</th>\n",
       "      <th>0.6</th>\n",
       "      <th>酒店</th>\n",
       "      <th>0.7</th>\n",
       "    </tr>\n",
       "  </thead>\n",
       "  <tbody>\n",
       "    <tr>\n",
       "      <th>1228</th>\n",
       "      <td>4cbebf56ed3144ca4171a362914c1f71</td>\n",
       "      <td>加油站</td>\n",
       "      <td>7</td>\n",
       "      <td>超市</td>\n",
       "      <td>27</td>\n",
       "      <td>住宅区</td>\n",
       "      <td>45</td>\n",
       "      <td>地铁站</td>\n",
       "      <td>2</td>\n",
       "      <td>公交站</td>\n",
       "      <td>...</td>\n",
       "      <td>咖啡厅</td>\n",
       "      <td>8</td>\n",
       "      <td>中餐厅</td>\n",
       "      <td>278</td>\n",
       "      <td>ATM</td>\n",
       "      <td>25</td>\n",
       "      <td>写字楼</td>\n",
       "      <td>12</td>\n",
       "      <td>酒店</td>\n",
       "      <td>42</td>\n",
       "    </tr>\n",
       "    <tr>\n",
       "      <th>1229</th>\n",
       "      <td>02fa9f7cd1d2c5dfdb32ed9c2aec23d9</td>\n",
       "      <td>加油站</td>\n",
       "      <td>1</td>\n",
       "      <td>超市</td>\n",
       "      <td>11</td>\n",
       "      <td>住宅区</td>\n",
       "      <td>30</td>\n",
       "      <td>地铁站</td>\n",
       "      <td>0</td>\n",
       "      <td>公交站</td>\n",
       "      <td>...</td>\n",
       "      <td>咖啡厅</td>\n",
       "      <td>11</td>\n",
       "      <td>中餐厅</td>\n",
       "      <td>190</td>\n",
       "      <td>ATM</td>\n",
       "      <td>10</td>\n",
       "      <td>写字楼</td>\n",
       "      <td>10</td>\n",
       "      <td>酒店</td>\n",
       "      <td>10</td>\n",
       "    </tr>\n",
       "    <tr>\n",
       "      <th>1230</th>\n",
       "      <td>f841c6a1468682b782fc80aaf4b833d9</td>\n",
       "      <td>加油站</td>\n",
       "      <td>2</td>\n",
       "      <td>超市</td>\n",
       "      <td>2</td>\n",
       "      <td>住宅区</td>\n",
       "      <td>3</td>\n",
       "      <td>地铁站</td>\n",
       "      <td>1</td>\n",
       "      <td>公交站</td>\n",
       "      <td>...</td>\n",
       "      <td>咖啡厅</td>\n",
       "      <td>23</td>\n",
       "      <td>中餐厅</td>\n",
       "      <td>50</td>\n",
       "      <td>ATM</td>\n",
       "      <td>19</td>\n",
       "      <td>写字楼</td>\n",
       "      <td>1</td>\n",
       "      <td>酒店</td>\n",
       "      <td>36</td>\n",
       "    </tr>\n",
       "    <tr>\n",
       "      <th>1231</th>\n",
       "      <td>ca902ab284d4bb9e8c2a0bb58d55cf7b</td>\n",
       "      <td>加油站</td>\n",
       "      <td>0</td>\n",
       "      <td>超市</td>\n",
       "      <td>0</td>\n",
       "      <td>住宅区</td>\n",
       "      <td>0</td>\n",
       "      <td>地铁站</td>\n",
       "      <td>0</td>\n",
       "      <td>公交站</td>\n",
       "      <td>...</td>\n",
       "      <td>咖啡厅</td>\n",
       "      <td>0</td>\n",
       "      <td>中餐厅</td>\n",
       "      <td>0</td>\n",
       "      <td>ATM</td>\n",
       "      <td>0</td>\n",
       "      <td>写字楼</td>\n",
       "      <td>0</td>\n",
       "      <td>酒店</td>\n",
       "      <td>0</td>\n",
       "    </tr>\n",
       "    <tr>\n",
       "      <th>1232</th>\n",
       "      <td>5cb3ac8d4c144096707ad77d131faea0</td>\n",
       "      <td>加油站</td>\n",
       "      <td>0</td>\n",
       "      <td>超市</td>\n",
       "      <td>0</td>\n",
       "      <td>住宅区</td>\n",
       "      <td>0</td>\n",
       "      <td>地铁站</td>\n",
       "      <td>0</td>\n",
       "      <td>公交站</td>\n",
       "      <td>...</td>\n",
       "      <td>咖啡厅</td>\n",
       "      <td>0</td>\n",
       "      <td>中餐厅</td>\n",
       "      <td>2</td>\n",
       "      <td>ATM</td>\n",
       "      <td>1</td>\n",
       "      <td>写字楼</td>\n",
       "      <td>0</td>\n",
       "      <td>酒店</td>\n",
       "      <td>0</td>\n",
       "    </tr>\n",
       "  </tbody>\n",
       "</table>\n",
       "<p>5 rows × 21 columns</p>\n",
       "</div>"
      ],
      "text/plain": [
       "      829fd9e04ed5f0e2148096737edb8a73  加油站  0  超市  0.1  住宅区   1  地铁站  0.2  \\\n",
       "1228  4cbebf56ed3144ca4171a362914c1f71  加油站  7  超市   27  住宅区  45  地铁站    2   \n",
       "1229  02fa9f7cd1d2c5dfdb32ed9c2aec23d9  加油站  1  超市   11  住宅区  30  地铁站    0   \n",
       "1230  f841c6a1468682b782fc80aaf4b833d9  加油站  2  超市    2  住宅区   3  地铁站    1   \n",
       "1231  ca902ab284d4bb9e8c2a0bb58d55cf7b  加油站  0  超市    0  住宅区   0  地铁站    0   \n",
       "1232  5cb3ac8d4c144096707ad77d131faea0  加油站  0  超市    0  住宅区   0  地铁站    0   \n",
       "\n",
       "      公交站  ...  咖啡厅 0.3  中餐厅  0.4  ATM 0.5  写字楼 0.6  酒店 0.7  \n",
       "1228  公交站  ...  咖啡厅   8  中餐厅  278  ATM  25  写字楼  12  酒店  42  \n",
       "1229  公交站  ...  咖啡厅  11  中餐厅  190  ATM  10  写字楼  10  酒店  10  \n",
       "1230  公交站  ...  咖啡厅  23  中餐厅   50  ATM  19  写字楼   1  酒店  36  \n",
       "1231  公交站  ...  咖啡厅   0  中餐厅    0  ATM   0  写字楼   0  酒店   0  \n",
       "1232  公交站  ...  咖啡厅   0  中餐厅    2  ATM   1  写字楼   0  酒店   0  \n",
       "\n",
       "[5 rows x 21 columns]"
      ]
     },
     "execution_count": 18,
     "metadata": {},
     "output_type": "execute_result"
    }
   ],
   "source": [
    "raw_poi_dataset = pd.read_csv(\"data/UAI_Data/poi.csv\")\n",
    "poi_dataset = raw_poi_dataset.copy()\n",
    "poi_dataset.tail()"
   ]
  },
  {
   "cell_type": "code",
   "execution_count": 74,
   "metadata": {
    "ExecuteTime": {
     "end_time": "2019-07-01T11:56:35.561524Z",
     "start_time": "2019-07-01T11:56:35.550059Z"
    }
   },
   "outputs": [
    {
     "ename": "NameError",
     "evalue": "name 'df1' is not defined",
     "output_type": "error",
     "traceback": [
      "\u001b[0;31m---------------------------------------------------------------------------\u001b[0m",
      "\u001b[0;31mNameError\u001b[0m                                 Traceback (most recent call last)",
      "\u001b[0;32m<ipython-input-74-f7ffa4be3c99>\u001b[0m in \u001b[0;36m<module>\u001b[0;34m\u001b[0m\n\u001b[1;32m      1\u001b[0m \u001b[0;34m\u001b[0m\u001b[0m\n\u001b[0;32m----> 2\u001b[0;31m \u001b[0moutfile\u001b[0m \u001b[0;34m=\u001b[0m \u001b[0mpd\u001b[0m\u001b[0;34m.\u001b[0m\u001b[0mmerge\u001b[0m\u001b[0;34m(\u001b[0m\u001b[0mdf1\u001b[0m\u001b[0;34m,\u001b[0m \u001b[0mdf2\u001b[0m\u001b[0;34m,\u001b[0m \u001b[0mhow\u001b[0m\u001b[0;34m=\u001b[0m\u001b[0;34m'left'\u001b[0m\u001b[0;34m,\u001b[0m \u001b[0mleft_on\u001b[0m\u001b[0;34m=\u001b[0m\u001b[0;34mu'汉字井号'\u001b[0m\u001b[0;34m,\u001b[0m\u001b[0mright_on\u001b[0m\u001b[0;34m=\u001b[0m\u001b[0;34m'WELL'\u001b[0m\u001b[0;34m)\u001b[0m\u001b[0;34m\u001b[0m\u001b[0;34m\u001b[0m\u001b[0m\n\u001b[0m",
      "\u001b[0;31mNameError\u001b[0m: name 'df1' is not defined"
     ]
    }
   ],
   "source": [
    "\n",
    "# outfile = pd.merge(df1, df2, how='left', left_on=u'汉字井号',right_on='WELL')\n"
   ]
  },
  {
   "cell_type": "markdown",
   "metadata": {
    "colab_type": "text",
    "id": "3MWuJTKEDM-f"
   },
   "source": [
    "### Clean the data\n",
    "\n",
    "The dataset contains a few unknown values."
   ]
  },
  {
   "cell_type": "code",
   "execution_count": 19,
   "metadata": {
    "ExecuteTime": {
     "end_time": "2019-07-01T14:36:10.025393Z",
     "start_time": "2019-07-01T14:36:09.765381Z"
    },
    "colab": {},
    "colab_type": "code",
    "id": "JEJHhN65a2VV"
   },
   "outputs": [
    {
     "data": {
      "text/plain": [
       "id                   0\n",
       "driver_id            0\n",
       "member_id            0\n",
       "create_date          0\n",
       "create_hour          0\n",
       "status               0\n",
       "estimate_money       0\n",
       "estimate_distance    0\n",
       "estimate_term        0\n",
       "start_geo_id         0\n",
       "end_geo_id           0\n",
       "dtype: int64"
      ]
     },
     "execution_count": 19,
     "metadata": {},
     "output_type": "execute_result"
    }
   ],
   "source": [
    "dataset.isna().sum()"
   ]
  },
  {
   "cell_type": "markdown",
   "metadata": {
    "colab_type": "text",
    "id": "9UPN0KBHa_WI"
   },
   "source": [
    "To keep this initial tutorial simple drop those rows."
   ]
  },
  {
   "cell_type": "code",
   "execution_count": 20,
   "metadata": {
    "ExecuteTime": {
     "end_time": "2019-07-01T14:36:12.880376Z",
     "start_time": "2019-07-01T14:36:12.523608Z"
    },
    "colab": {},
    "colab_type": "code",
    "id": "4ZUDosChC1UN"
   },
   "outputs": [],
   "source": [
    "dataset = dataset.dropna()"
   ]
  },
  {
   "cell_type": "code",
   "execution_count": 21,
   "metadata": {
    "ExecuteTime": {
     "end_time": "2019-07-01T14:36:14.536206Z",
     "start_time": "2019-07-01T14:36:14.524381Z"
    }
   },
   "outputs": [
    {
     "data": {
      "text/html": [
       "<div>\n",
       "<style scoped>\n",
       "    .dataframe tbody tr th:only-of-type {\n",
       "        vertical-align: middle;\n",
       "    }\n",
       "\n",
       "    .dataframe tbody tr th {\n",
       "        vertical-align: top;\n",
       "    }\n",
       "\n",
       "    .dataframe thead th {\n",
       "        text-align: right;\n",
       "    }\n",
       "</style>\n",
       "<table border=\"1\" class=\"dataframe\">\n",
       "  <thead>\n",
       "    <tr style=\"text-align: right;\">\n",
       "      <th></th>\n",
       "      <th>id</th>\n",
       "      <th>driver_id</th>\n",
       "      <th>member_id</th>\n",
       "      <th>create_date</th>\n",
       "      <th>create_hour</th>\n",
       "      <th>status</th>\n",
       "      <th>estimate_money</th>\n",
       "      <th>estimate_distance</th>\n",
       "      <th>estimate_term</th>\n",
       "      <th>start_geo_id</th>\n",
       "      <th>end_geo_id</th>\n",
       "    </tr>\n",
       "  </thead>\n",
       "  <tbody>\n",
       "    <tr>\n",
       "      <th>892513</th>\n",
       "      <td>e44192aec850aba13cf5c2487402e351</td>\n",
       "      <td>d85d61f3f03f79018addffdf00bb27a5</td>\n",
       "      <td>ae553431681035373a7743307f9e3a86</td>\n",
       "      <td>2017-07-31</td>\n",
       "      <td>21</td>\n",
       "      <td>2</td>\n",
       "      <td>69.00</td>\n",
       "      <td>7519.0</td>\n",
       "      <td>15.0</td>\n",
       "      <td>3cdb9ab878fa95e97bb93b2b54de88b3</td>\n",
       "      <td>ba20ac2de22cfe373f316eaa256b85fc</td>\n",
       "    </tr>\n",
       "    <tr>\n",
       "      <th>892514</th>\n",
       "      <td>d272e191fe4381cb951f0c41419d9738</td>\n",
       "      <td>d224bbc4936917a1ce2bd40c597298b8</td>\n",
       "      <td>4bcde37117fd1697bbd51b1fbf9d0e0a</td>\n",
       "      <td>2017-07-31</td>\n",
       "      <td>21</td>\n",
       "      <td>2</td>\n",
       "      <td>56.00</td>\n",
       "      <td>5446.0</td>\n",
       "      <td>10.0</td>\n",
       "      <td>1239d1bfdc532392645d7a37f7469adf</td>\n",
       "      <td>aa0885cb765d5748a3bc5387a1f18b24</td>\n",
       "    </tr>\n",
       "    <tr>\n",
       "      <th>892515</th>\n",
       "      <td>952a6654f49582586c8e9ff3ef9db0e7</td>\n",
       "      <td>d41d8cd98f00b204e9800998ecf8427e</td>\n",
       "      <td>56123674426b82d1eff066bfeb01c477</td>\n",
       "      <td>2017-07-31</td>\n",
       "      <td>21</td>\n",
       "      <td>0</td>\n",
       "      <td>63.92</td>\n",
       "      <td>6594.0</td>\n",
       "      <td>13.0</td>\n",
       "      <td>cebd06f631cf0b3cc33b8fbd4c1617d7</td>\n",
       "      <td>556b1662c246ecc6d548b9050e2c056a</td>\n",
       "    </tr>\n",
       "    <tr>\n",
       "      <th>892516</th>\n",
       "      <td>47b3caf9328d26045f8a1d22b9bae966</td>\n",
       "      <td>ab0ad21cdacf6435190a376bf356d122</td>\n",
       "      <td>99d7972a12e6136bcb03c6b638f0012c</td>\n",
       "      <td>2017-07-31</td>\n",
       "      <td>22</td>\n",
       "      <td>2</td>\n",
       "      <td>92.00</td>\n",
       "      <td>13962.0</td>\n",
       "      <td>24.0</td>\n",
       "      <td>7edf4edc378fa94ec51173f9e59b6a48</td>\n",
       "      <td>aa532f0935c3f7f5d2f1f337125998a0</td>\n",
       "    </tr>\n",
       "    <tr>\n",
       "      <th>892517</th>\n",
       "      <td>fb4b75fb5869e6c6d6dd1deb1f2cd918</td>\n",
       "      <td>500e690ac692529db304a6d6146ba505</td>\n",
       "      <td>0c2eef3e84101527ef3662a49e24208c</td>\n",
       "      <td>2017-07-31</td>\n",
       "      <td>23</td>\n",
       "      <td>2</td>\n",
       "      <td>244.00</td>\n",
       "      <td>44103.0</td>\n",
       "      <td>43.0</td>\n",
       "      <td>2439f5972a0b65da303397c790dca20d</td>\n",
       "      <td>c74e88fd881dc512d63aa6de1986dde5</td>\n",
       "    </tr>\n",
       "  </tbody>\n",
       "</table>\n",
       "</div>"
      ],
      "text/plain": [
       "                                      id                         driver_id  \\\n",
       "892513  e44192aec850aba13cf5c2487402e351  d85d61f3f03f79018addffdf00bb27a5   \n",
       "892514  d272e191fe4381cb951f0c41419d9738  d224bbc4936917a1ce2bd40c597298b8   \n",
       "892515  952a6654f49582586c8e9ff3ef9db0e7  d41d8cd98f00b204e9800998ecf8427e   \n",
       "892516  47b3caf9328d26045f8a1d22b9bae966  ab0ad21cdacf6435190a376bf356d122   \n",
       "892517  fb4b75fb5869e6c6d6dd1deb1f2cd918  500e690ac692529db304a6d6146ba505   \n",
       "\n",
       "                               member_id create_date  create_hour  status  \\\n",
       "892513  ae553431681035373a7743307f9e3a86  2017-07-31           21       2   \n",
       "892514  4bcde37117fd1697bbd51b1fbf9d0e0a  2017-07-31           21       2   \n",
       "892515  56123674426b82d1eff066bfeb01c477  2017-07-31           21       0   \n",
       "892516  99d7972a12e6136bcb03c6b638f0012c  2017-07-31           22       2   \n",
       "892517  0c2eef3e84101527ef3662a49e24208c  2017-07-31           23       2   \n",
       "\n",
       "        estimate_money  estimate_distance  estimate_term  \\\n",
       "892513           69.00             7519.0           15.0   \n",
       "892514           56.00             5446.0           10.0   \n",
       "892515           63.92             6594.0           13.0   \n",
       "892516           92.00            13962.0           24.0   \n",
       "892517          244.00            44103.0           43.0   \n",
       "\n",
       "                            start_geo_id                        end_geo_id  \n",
       "892513  3cdb9ab878fa95e97bb93b2b54de88b3  ba20ac2de22cfe373f316eaa256b85fc  \n",
       "892514  1239d1bfdc532392645d7a37f7469adf  aa0885cb765d5748a3bc5387a1f18b24  \n",
       "892515  cebd06f631cf0b3cc33b8fbd4c1617d7  556b1662c246ecc6d548b9050e2c056a  \n",
       "892516  7edf4edc378fa94ec51173f9e59b6a48  aa532f0935c3f7f5d2f1f337125998a0  \n",
       "892517  2439f5972a0b65da303397c790dca20d  c74e88fd881dc512d63aa6de1986dde5  "
      ]
     },
     "execution_count": 21,
     "metadata": {},
     "output_type": "execute_result"
    }
   ],
   "source": [
    "dataset.tail()"
   ]
  },
  {
   "cell_type": "markdown",
   "metadata": {
    "colab_type": "text",
    "id": "8XKitwaH4v8h"
   },
   "source": [
    "The `\"Origin\"` column is really categorical, not numeric. So convert that to a one-hot:"
   ]
  },
  {
   "cell_type": "code",
   "execution_count": 22,
   "metadata": {
    "ExecuteTime": {
     "end_time": "2019-07-01T14:36:26.763649Z",
     "start_time": "2019-07-01T14:36:26.760281Z"
    },
    "colab": {},
    "colab_type": "code",
    "id": "gWNTD2QjBWFJ"
   },
   "outputs": [],
   "source": [
    "origin = dataset.pop('status')"
   ]
  },
  {
   "cell_type": "code",
   "execution_count": 23,
   "metadata": {
    "ExecuteTime": {
     "end_time": "2019-07-01T14:36:29.065463Z",
     "start_time": "2019-07-01T14:36:28.929067Z"
    },
    "colab": {},
    "colab_type": "code",
    "id": "ulXz4J7PAUzk"
   },
   "outputs": [
    {
     "data": {
      "text/html": [
       "<div>\n",
       "<style scoped>\n",
       "    .dataframe tbody tr th:only-of-type {\n",
       "        vertical-align: middle;\n",
       "    }\n",
       "\n",
       "    .dataframe tbody tr th {\n",
       "        vertical-align: top;\n",
       "    }\n",
       "\n",
       "    .dataframe thead th {\n",
       "        text-align: right;\n",
       "    }\n",
       "</style>\n",
       "<table border=\"1\" class=\"dataframe\">\n",
       "  <thead>\n",
       "    <tr style=\"text-align: right;\">\n",
       "      <th></th>\n",
       "      <th>id</th>\n",
       "      <th>driver_id</th>\n",
       "      <th>member_id</th>\n",
       "      <th>create_date</th>\n",
       "      <th>create_hour</th>\n",
       "      <th>estimate_money</th>\n",
       "      <th>estimate_distance</th>\n",
       "      <th>estimate_term</th>\n",
       "      <th>start_geo_id</th>\n",
       "      <th>end_geo_id</th>\n",
       "      <th>unreserve</th>\n",
       "      <th>reserved_failed</th>\n",
       "      <th>success</th>\n",
       "    </tr>\n",
       "  </thead>\n",
       "  <tbody>\n",
       "    <tr>\n",
       "      <th>892513</th>\n",
       "      <td>e44192aec850aba13cf5c2487402e351</td>\n",
       "      <td>d85d61f3f03f79018addffdf00bb27a5</td>\n",
       "      <td>ae553431681035373a7743307f9e3a86</td>\n",
       "      <td>2017-07-31</td>\n",
       "      <td>21</td>\n",
       "      <td>69.00</td>\n",
       "      <td>7519.0</td>\n",
       "      <td>15.0</td>\n",
       "      <td>3cdb9ab878fa95e97bb93b2b54de88b3</td>\n",
       "      <td>ba20ac2de22cfe373f316eaa256b85fc</td>\n",
       "      <td>0.0</td>\n",
       "      <td>0.0</td>\n",
       "      <td>1.0</td>\n",
       "    </tr>\n",
       "    <tr>\n",
       "      <th>892514</th>\n",
       "      <td>d272e191fe4381cb951f0c41419d9738</td>\n",
       "      <td>d224bbc4936917a1ce2bd40c597298b8</td>\n",
       "      <td>4bcde37117fd1697bbd51b1fbf9d0e0a</td>\n",
       "      <td>2017-07-31</td>\n",
       "      <td>21</td>\n",
       "      <td>56.00</td>\n",
       "      <td>5446.0</td>\n",
       "      <td>10.0</td>\n",
       "      <td>1239d1bfdc532392645d7a37f7469adf</td>\n",
       "      <td>aa0885cb765d5748a3bc5387a1f18b24</td>\n",
       "      <td>0.0</td>\n",
       "      <td>0.0</td>\n",
       "      <td>1.0</td>\n",
       "    </tr>\n",
       "    <tr>\n",
       "      <th>892515</th>\n",
       "      <td>952a6654f49582586c8e9ff3ef9db0e7</td>\n",
       "      <td>d41d8cd98f00b204e9800998ecf8427e</td>\n",
       "      <td>56123674426b82d1eff066bfeb01c477</td>\n",
       "      <td>2017-07-31</td>\n",
       "      <td>21</td>\n",
       "      <td>63.92</td>\n",
       "      <td>6594.0</td>\n",
       "      <td>13.0</td>\n",
       "      <td>cebd06f631cf0b3cc33b8fbd4c1617d7</td>\n",
       "      <td>556b1662c246ecc6d548b9050e2c056a</td>\n",
       "      <td>1.0</td>\n",
       "      <td>0.0</td>\n",
       "      <td>0.0</td>\n",
       "    </tr>\n",
       "    <tr>\n",
       "      <th>892516</th>\n",
       "      <td>47b3caf9328d26045f8a1d22b9bae966</td>\n",
       "      <td>ab0ad21cdacf6435190a376bf356d122</td>\n",
       "      <td>99d7972a12e6136bcb03c6b638f0012c</td>\n",
       "      <td>2017-07-31</td>\n",
       "      <td>22</td>\n",
       "      <td>92.00</td>\n",
       "      <td>13962.0</td>\n",
       "      <td>24.0</td>\n",
       "      <td>7edf4edc378fa94ec51173f9e59b6a48</td>\n",
       "      <td>aa532f0935c3f7f5d2f1f337125998a0</td>\n",
       "      <td>0.0</td>\n",
       "      <td>0.0</td>\n",
       "      <td>1.0</td>\n",
       "    </tr>\n",
       "    <tr>\n",
       "      <th>892517</th>\n",
       "      <td>fb4b75fb5869e6c6d6dd1deb1f2cd918</td>\n",
       "      <td>500e690ac692529db304a6d6146ba505</td>\n",
       "      <td>0c2eef3e84101527ef3662a49e24208c</td>\n",
       "      <td>2017-07-31</td>\n",
       "      <td>23</td>\n",
       "      <td>244.00</td>\n",
       "      <td>44103.0</td>\n",
       "      <td>43.0</td>\n",
       "      <td>2439f5972a0b65da303397c790dca20d</td>\n",
       "      <td>c74e88fd881dc512d63aa6de1986dde5</td>\n",
       "      <td>0.0</td>\n",
       "      <td>0.0</td>\n",
       "      <td>1.0</td>\n",
       "    </tr>\n",
       "  </tbody>\n",
       "</table>\n",
       "</div>"
      ],
      "text/plain": [
       "                                      id                         driver_id  \\\n",
       "892513  e44192aec850aba13cf5c2487402e351  d85d61f3f03f79018addffdf00bb27a5   \n",
       "892514  d272e191fe4381cb951f0c41419d9738  d224bbc4936917a1ce2bd40c597298b8   \n",
       "892515  952a6654f49582586c8e9ff3ef9db0e7  d41d8cd98f00b204e9800998ecf8427e   \n",
       "892516  47b3caf9328d26045f8a1d22b9bae966  ab0ad21cdacf6435190a376bf356d122   \n",
       "892517  fb4b75fb5869e6c6d6dd1deb1f2cd918  500e690ac692529db304a6d6146ba505   \n",
       "\n",
       "                               member_id create_date  create_hour  \\\n",
       "892513  ae553431681035373a7743307f9e3a86  2017-07-31           21   \n",
       "892514  4bcde37117fd1697bbd51b1fbf9d0e0a  2017-07-31           21   \n",
       "892515  56123674426b82d1eff066bfeb01c477  2017-07-31           21   \n",
       "892516  99d7972a12e6136bcb03c6b638f0012c  2017-07-31           22   \n",
       "892517  0c2eef3e84101527ef3662a49e24208c  2017-07-31           23   \n",
       "\n",
       "        estimate_money  estimate_distance  estimate_term  \\\n",
       "892513           69.00             7519.0           15.0   \n",
       "892514           56.00             5446.0           10.0   \n",
       "892515           63.92             6594.0           13.0   \n",
       "892516           92.00            13962.0           24.0   \n",
       "892517          244.00            44103.0           43.0   \n",
       "\n",
       "                            start_geo_id                        end_geo_id  \\\n",
       "892513  3cdb9ab878fa95e97bb93b2b54de88b3  ba20ac2de22cfe373f316eaa256b85fc   \n",
       "892514  1239d1bfdc532392645d7a37f7469adf  aa0885cb765d5748a3bc5387a1f18b24   \n",
       "892515  cebd06f631cf0b3cc33b8fbd4c1617d7  556b1662c246ecc6d548b9050e2c056a   \n",
       "892516  7edf4edc378fa94ec51173f9e59b6a48  aa532f0935c3f7f5d2f1f337125998a0   \n",
       "892517  2439f5972a0b65da303397c790dca20d  c74e88fd881dc512d63aa6de1986dde5   \n",
       "\n",
       "        unreserve  reserved_failed  success  \n",
       "892513        0.0              0.0      1.0  \n",
       "892514        0.0              0.0      1.0  \n",
       "892515        1.0              0.0      0.0  \n",
       "892516        0.0              0.0      1.0  \n",
       "892517        0.0              0.0      1.0  "
      ]
     },
     "execution_count": 23,
     "metadata": {},
     "output_type": "execute_result"
    }
   ],
   "source": [
    "# dataset['unreserve'] = (origin == 0)*1.0\n",
    "# dataset['reserved_failed'] = (origin == 1)*1.0\n",
    "# dataset['success'] = (origin == 2)*1.0\n",
    "dataset.tail()"
   ]
  },
  {
   "cell_type": "code",
   "execution_count": 16,
   "metadata": {
    "ExecuteTime": {
     "end_time": "2019-07-02T00:01:07.230307Z",
     "start_time": "2019-07-02T00:01:07.177507Z"
    }
   },
   "outputs": [
    {
     "data": {
      "text/html": [
       "<div>\n",
       "<style scoped>\n",
       "    .dataframe tbody tr th:only-of-type {\n",
       "        vertical-align: middle;\n",
       "    }\n",
       "\n",
       "    .dataframe tbody tr th {\n",
       "        vertical-align: top;\n",
       "    }\n",
       "\n",
       "    .dataframe thead th {\n",
       "        text-align: right;\n",
       "    }\n",
       "</style>\n",
       "<table border=\"1\" class=\"dataframe\">\n",
       "  <thead>\n",
       "    <tr style=\"text-align: right;\">\n",
       "      <th></th>\n",
       "      <th>test_id</th>\n",
       "      <th>start_geo_id</th>\n",
       "      <th>end_geo_id</th>\n",
       "      <th>create_date</th>\n",
       "      <th>create_hour</th>\n",
       "    </tr>\n",
       "  </thead>\n",
       "  <tbody>\n",
       "    <tr>\n",
       "      <th>4995</th>\n",
       "      <td>4995</td>\n",
       "      <td>1239d1bfdc532392645d7a37f7469adf</td>\n",
       "      <td>ef0cd03aa712b2301a78b95ab96ad560</td>\n",
       "      <td>2017-08-07</td>\n",
       "      <td>17</td>\n",
       "    </tr>\n",
       "    <tr>\n",
       "      <th>4996</th>\n",
       "      <td>4996</td>\n",
       "      <td>83fdd3fc77b27bdbfbc1b3a8d7912fbf</td>\n",
       "      <td>3cdb9ab878fa95e97bb93b2b54de88b3</td>\n",
       "      <td>2017-08-07</td>\n",
       "      <td>19</td>\n",
       "    </tr>\n",
       "    <tr>\n",
       "      <th>4997</th>\n",
       "      <td>4997</td>\n",
       "      <td>0a64b01e91cf367a9b016d4f6d42290f</td>\n",
       "      <td>7edf4edc378fa94ec51173f9e59b6a48</td>\n",
       "      <td>2017-08-07</td>\n",
       "      <td>15</td>\n",
       "    </tr>\n",
       "    <tr>\n",
       "      <th>4998</th>\n",
       "      <td>4998</td>\n",
       "      <td>0a3a2eb43992b7de437a09283df43258</td>\n",
       "      <td>ad16d3a734930df43cd668b8f5116d5c</td>\n",
       "      <td>2017-08-07</td>\n",
       "      <td>17</td>\n",
       "    </tr>\n",
       "    <tr>\n",
       "      <th>4999</th>\n",
       "      <td>4999</td>\n",
       "      <td>0e9d5c24b472d5ce239c7cb84ecf62f5</td>\n",
       "      <td>27d75f17e61587172fe7a6827bbaa198</td>\n",
       "      <td>2017-08-07</td>\n",
       "      <td>7</td>\n",
       "    </tr>\n",
       "  </tbody>\n",
       "</table>\n",
       "</div>"
      ],
      "text/plain": [
       "      test_id                      start_geo_id  \\\n",
       "4995     4995  1239d1bfdc532392645d7a37f7469adf   \n",
       "4996     4996  83fdd3fc77b27bdbfbc1b3a8d7912fbf   \n",
       "4997     4997  0a64b01e91cf367a9b016d4f6d42290f   \n",
       "4998     4998  0a3a2eb43992b7de437a09283df43258   \n",
       "4999     4999  0e9d5c24b472d5ce239c7cb84ecf62f5   \n",
       "\n",
       "                            end_geo_id create_date  create_hour  \n",
       "4995  ef0cd03aa712b2301a78b95ab96ad560  2017-08-07           17  \n",
       "4996  3cdb9ab878fa95e97bb93b2b54de88b3  2017-08-07           19  \n",
       "4997  7edf4edc378fa94ec51173f9e59b6a48  2017-08-07           15  \n",
       "4998  ad16d3a734930df43cd668b8f5116d5c  2017-08-07           17  \n",
       "4999  27d75f17e61587172fe7a6827bbaa198  2017-08-07            7  "
      ]
     },
     "execution_count": 16,
     "metadata": {},
     "output_type": "execute_result"
    }
   ],
   "source": [
    "test_dataset = pd.read_csv('data/test_id_Aug_agg_private5k.csv')\n",
    "test_dataset.tail()"
   ]
  },
  {
   "cell_type": "code",
   "execution_count": 26,
   "metadata": {
    "ExecuteTime": {
     "end_time": "2019-07-01T15:50:36.078271Z",
     "start_time": "2019-07-01T15:50:35.936362Z"
    },
    "colab": {},
    "colab_type": "code",
    "id": "qn-IGhUE7_1H"
   },
   "outputs": [
    {
     "data": {
      "text/plain": [
       "0         3e69e17a6e5a726fe44d71896bee4f32\n",
       "1         034f5860624827a65191a9be919fbb3d\n",
       "2         d41d8cd98f00b204e9800998ecf8427e\n",
       "3         e4c4e24edd254bb81fc6e3fe7a1a5dd4\n",
       "4         d41d8cd98f00b204e9800998ecf8427e\n",
       "5         603bdb4e43ec2571e8724ae0dd78434c\n",
       "6         6ab41a361b7a640051de548b64a80ba0\n",
       "7         e0de06ab535fcb347f7d46dfc78d7c9e\n",
       "8         b96a0278d839409bd48b3266c894cf12\n",
       "9         a8c305b12b0656d0af45318ea6b56c30\n",
       "10        8c0cea1c2b8e2354c41f78a61d53b7a2\n",
       "11        bdffc7973c9f8f88ab4effb397c59f92\n",
       "12        413a32bde9f87209a4a259f501c45a7a\n",
       "13        d41d8cd98f00b204e9800998ecf8427e\n",
       "14        a210495a82b1a68acb20d201f24da34b\n",
       "15        55ed5f85db1ee6f5981b5d9c8bd1f0a4\n",
       "16        6790000518a84ff2fba424ed8734d7c4\n",
       "17        8f796847ea25d32bed0bb1aee8bf70eb\n",
       "18        0176b64e6ee6f5412b60a37d207b6297\n",
       "19        96cbecebd85bf663fe7fd366e1d180b3\n",
       "20        e0613000bcd426e19c29ad052aa7ea49\n",
       "21        fda6baab618b39821b678bd52ff26428\n",
       "22        d880e783834172e5ebd1868d84463d93\n",
       "23        5a01f0597ac4bdf35c24846734ee9a76\n",
       "24        d41d8cd98f00b204e9800998ecf8427e\n",
       "25        6d734a42223d789a28b16e8539678ba0\n",
       "26        68d3743587f71fbaa5062152985aff40\n",
       "27        1018518b8dcce044a4ce7237c89875a7\n",
       "28        cdd7005c54b8cccc0d5f369ad7c55064\n",
       "29        ee85c9846d0f807d7ef518d85b40a83d\n",
       "                        ...               \n",
       "892488    136e63893ca71445c0185e464cf12266\n",
       "892489    d41d8cd98f00b204e9800998ecf8427e\n",
       "892490    2633cb9a51b5ec98f403ba5c97dc07c5\n",
       "892491    60976a3b17238986e4740667c4cc0908\n",
       "892492    d2328daaa6a0a581028bda7a8d069510\n",
       "892493    54a64b2e4c5969a0449a82b1ef1ecf70\n",
       "892494    f56e5790806315be33a8a4ca626d9044\n",
       "892495    ae64862963de122e67bd777f85f5bfb9\n",
       "892496    6dbc972bd2a7922a346b9f5b679b3e97\n",
       "892497    d41d8cd98f00b204e9800998ecf8427e\n",
       "892498    5a6a7f5d24f46f421d3eee5fafccb254\n",
       "892499    a8681aa8e6d61ff747629c1f16bc4c9d\n",
       "892500    d41d8cd98f00b204e9800998ecf8427e\n",
       "892501    42906948e69595ea707b39f33106ae5c\n",
       "892502    46d47138a6690ea43ba1d5d313b5911d\n",
       "892503    31c3ffeb9fdbfc0ee713ad7385c3867c\n",
       "892504    71b0abd8931ed356600e2a5c0264335c\n",
       "892505    0958560bd45062d115debadb6bca3183\n",
       "892506    b609e08bb56db5e6cb5cef19ede32211\n",
       "892507    ae4dba1743cc6d441257ccf513a51ff5\n",
       "892508    76ac4dd6d29ba379bc7e819e4dcd5de2\n",
       "892509    d41d8cd98f00b204e9800998ecf8427e\n",
       "892510    0f93ec3aef329a079ce0f71cd4256058\n",
       "892511    747e32ab0fea7fbd2ad9ec03daa3f840\n",
       "892512    93fc5aed8c051ce4538e052cfe9f8692\n",
       "892513    d85d61f3f03f79018addffdf00bb27a5\n",
       "892514    d224bbc4936917a1ce2bd40c597298b8\n",
       "892515    d41d8cd98f00b204e9800998ecf8427e\n",
       "892516    ab0ad21cdacf6435190a376bf356d122\n",
       "892517    500e690ac692529db304a6d6146ba505\n",
       "Name: driver_id, Length: 892518, dtype: object"
      ]
     },
     "execution_count": 26,
     "metadata": {},
     "output_type": "execute_result"
    }
   ],
   "source": [
    "# train_dataset = dataset.sample(frac=0.8,random_state=0)\n",
    "# test_dataset = dataset.drop(train_dataset.index)\n",
    "# dataset_clean = dataset.to_csv('data/clean/dataset_clean.csv')"
   ]
  },
  {
   "cell_type": "markdown",
   "metadata": {
    "colab_type": "text",
    "id": "J4ubs136WLNp"
   },
   "source": [
    "### Inspect the data\n",
    "\n",
    "Have a quick look at the joint distribution of a few pairs of columns from the training set."
   ]
  },
  {
   "cell_type": "code",
   "execution_count": 81,
   "metadata": {
    "ExecuteTime": {
     "end_time": "2019-07-01T12:09:39.752381Z",
     "start_time": "2019-07-01T12:08:33.066243Z"
    },
    "colab": {},
    "colab_type": "code",
    "id": "oRKO_x8gWKv-"
   },
   "outputs": [
    {
     "data": {
      "text/plain": [
       "<seaborn.axisgrid.PairGrid at 0x7f0735488c50>"
      ]
     },
     "execution_count": 81,
     "metadata": {},
     "output_type": "execute_result"
    },
    {
     "data": {
      "image/png": "[encoded data removed]",
      "text/plain": [
       "<Figure size 540x540 with 12 Axes>"
      ]
     },
     "metadata": {
      "needs_background": "light"
     },
     "output_type": "display_data"
    }
   ],
   "source": [
    "sns.pairplot(train_dataset[[\"estimate_money\", \"estimate_distance\", \"estimate_term\"]], diag_kind=\"kde\")"
   ]
  },
  {
   "cell_type": "markdown",
   "metadata": {
    "colab_type": "text",
    "id": "gavKO_6DWRMP"
   },
   "source": [
    "Also look at the overall statistics:"
   ]
  },
  {
   "cell_type": "code",
   "execution_count": 83,
   "metadata": {
    "ExecuteTime": {
     "end_time": "2019-07-01T12:09:53.464898Z",
     "start_time": "2019-07-01T12:09:53.443498Z"
    }
   },
   "outputs": [
    {
     "data": {
      "text/html": [
       "<div>\n",
       "<style scoped>\n",
       "    .dataframe tbody tr th:only-of-type {\n",
       "        vertical-align: middle;\n",
       "    }\n",
       "\n",
       "    .dataframe tbody tr th {\n",
       "        vertical-align: top;\n",
       "    }\n",
       "\n",
       "    .dataframe thead th {\n",
       "        text-align: right;\n",
       "    }\n",
       "</style>\n",
       "<table border=\"1\" class=\"dataframe\">\n",
       "  <thead>\n",
       "    <tr style=\"text-align: right;\">\n",
       "      <th></th>\n",
       "      <th>id</th>\n",
       "      <th>driver_id</th>\n",
       "      <th>member_id</th>\n",
       "      <th>create_date</th>\n",
       "      <th>create_hour</th>\n",
       "      <th>estimate_money</th>\n",
       "      <th>estimate_distance</th>\n",
       "      <th>estimate_term</th>\n",
       "      <th>start_geo_id</th>\n",
       "      <th>end_geo_id</th>\n",
       "      <th>unreserve</th>\n",
       "      <th>reserved_failed</th>\n",
       "      <th>success</th>\n",
       "    </tr>\n",
       "  </thead>\n",
       "  <tbody>\n",
       "    <tr>\n",
       "      <th>892513</th>\n",
       "      <td>e44192aec850aba13cf5c2487402e351</td>\n",
       "      <td>d85d61f3f03f79018addffdf00bb27a5</td>\n",
       "      <td>ae553431681035373a7743307f9e3a86</td>\n",
       "      <td>2017-07-31</td>\n",
       "      <td>21</td>\n",
       "      <td>69.00</td>\n",
       "      <td>7519.0</td>\n",
       "      <td>15.0</td>\n",
       "      <td>3cdb9ab878fa95e97bb93b2b54de88b3</td>\n",
       "      <td>ba20ac2de22cfe373f316eaa256b85fc</td>\n",
       "      <td>0.0</td>\n",
       "      <td>0.0</td>\n",
       "      <td>1.0</td>\n",
       "    </tr>\n",
       "    <tr>\n",
       "      <th>892514</th>\n",
       "      <td>d272e191fe4381cb951f0c41419d9738</td>\n",
       "      <td>d224bbc4936917a1ce2bd40c597298b8</td>\n",
       "      <td>4bcde37117fd1697bbd51b1fbf9d0e0a</td>\n",
       "      <td>2017-07-31</td>\n",
       "      <td>21</td>\n",
       "      <td>56.00</td>\n",
       "      <td>5446.0</td>\n",
       "      <td>10.0</td>\n",
       "      <td>1239d1bfdc532392645d7a37f7469adf</td>\n",
       "      <td>aa0885cb765d5748a3bc5387a1f18b24</td>\n",
       "      <td>0.0</td>\n",
       "      <td>0.0</td>\n",
       "      <td>1.0</td>\n",
       "    </tr>\n",
       "    <tr>\n",
       "      <th>892515</th>\n",
       "      <td>952a6654f49582586c8e9ff3ef9db0e7</td>\n",
       "      <td>d41d8cd98f00b204e9800998ecf8427e</td>\n",
       "      <td>56123674426b82d1eff066bfeb01c477</td>\n",
       "      <td>2017-07-31</td>\n",
       "      <td>21</td>\n",
       "      <td>63.92</td>\n",
       "      <td>6594.0</td>\n",
       "      <td>13.0</td>\n",
       "      <td>cebd06f631cf0b3cc33b8fbd4c1617d7</td>\n",
       "      <td>556b1662c246ecc6d548b9050e2c056a</td>\n",
       "      <td>1.0</td>\n",
       "      <td>0.0</td>\n",
       "      <td>0.0</td>\n",
       "    </tr>\n",
       "    <tr>\n",
       "      <th>892516</th>\n",
       "      <td>47b3caf9328d26045f8a1d22b9bae966</td>\n",
       "      <td>ab0ad21cdacf6435190a376bf356d122</td>\n",
       "      <td>99d7972a12e6136bcb03c6b638f0012c</td>\n",
       "      <td>2017-07-31</td>\n",
       "      <td>22</td>\n",
       "      <td>92.00</td>\n",
       "      <td>13962.0</td>\n",
       "      <td>24.0</td>\n",
       "      <td>7edf4edc378fa94ec51173f9e59b6a48</td>\n",
       "      <td>aa532f0935c3f7f5d2f1f337125998a0</td>\n",
       "      <td>0.0</td>\n",
       "      <td>0.0</td>\n",
       "      <td>1.0</td>\n",
       "    </tr>\n",
       "    <tr>\n",
       "      <th>892517</th>\n",
       "      <td>fb4b75fb5869e6c6d6dd1deb1f2cd918</td>\n",
       "      <td>500e690ac692529db304a6d6146ba505</td>\n",
       "      <td>0c2eef3e84101527ef3662a49e24208c</td>\n",
       "      <td>2017-07-31</td>\n",
       "      <td>23</td>\n",
       "      <td>244.00</td>\n",
       "      <td>44103.0</td>\n",
       "      <td>43.0</td>\n",
       "      <td>2439f5972a0b65da303397c790dca20d</td>\n",
       "      <td>c74e88fd881dc512d63aa6de1986dde5</td>\n",
       "      <td>0.0</td>\n",
       "      <td>0.0</td>\n",
       "      <td>1.0</td>\n",
       "    </tr>\n",
       "  </tbody>\n",
       "</table>\n",
       "</div>"
      ],
      "text/plain": [
       "                                      id                         driver_id  \\\n",
       "892513  e44192aec850aba13cf5c2487402e351  d85d61f3f03f79018addffdf00bb27a5   \n",
       "892514  d272e191fe4381cb951f0c41419d9738  d224bbc4936917a1ce2bd40c597298b8   \n",
       "892515  952a6654f49582586c8e9ff3ef9db0e7  d41d8cd98f00b204e9800998ecf8427e   \n",
       "892516  47b3caf9328d26045f8a1d22b9bae966  ab0ad21cdacf6435190a376bf356d122   \n",
       "892517  fb4b75fb5869e6c6d6dd1deb1f2cd918  500e690ac692529db304a6d6146ba505   \n",
       "\n",
       "                               member_id create_date  create_hour  \\\n",
       "892513  ae553431681035373a7743307f9e3a86  2017-07-31           21   \n",
       "892514  4bcde37117fd1697bbd51b1fbf9d0e0a  2017-07-31           21   \n",
       "892515  56123674426b82d1eff066bfeb01c477  2017-07-31           21   \n",
       "892516  99d7972a12e6136bcb03c6b638f0012c  2017-07-31           22   \n",
       "892517  0c2eef3e84101527ef3662a49e24208c  2017-07-31           23   \n",
       "\n",
       "        estimate_money  estimate_distance  estimate_term  \\\n",
       "892513           69.00             7519.0           15.0   \n",
       "892514           56.00             5446.0           10.0   \n",
       "892515           63.92             6594.0           13.0   \n",
       "892516           92.00            13962.0           24.0   \n",
       "892517          244.00            44103.0           43.0   \n",
       "\n",
       "                            start_geo_id                        end_geo_id  \\\n",
       "892513  3cdb9ab878fa95e97bb93b2b54de88b3  ba20ac2de22cfe373f316eaa256b85fc   \n",
       "892514  1239d1bfdc532392645d7a37f7469adf  aa0885cb765d5748a3bc5387a1f18b24   \n",
       "892515  cebd06f631cf0b3cc33b8fbd4c1617d7  556b1662c246ecc6d548b9050e2c056a   \n",
       "892516  7edf4edc378fa94ec51173f9e59b6a48  aa532f0935c3f7f5d2f1f337125998a0   \n",
       "892517  2439f5972a0b65da303397c790dca20d  c74e88fd881dc512d63aa6de1986dde5   \n",
       "\n",
       "        unreserve  reserved_failed  success  \n",
       "892513        0.0              0.0      1.0  \n",
       "892514        0.0              0.0      1.0  \n",
       "892515        1.0              0.0      0.0  \n",
       "892516        0.0              0.0      1.0  \n",
       "892517        0.0              0.0      1.0  "
      ]
     },
     "execution_count": 83,
     "metadata": {},
     "output_type": "execute_result"
    }
   ],
   "source": [
    "train_dataset.tail()"
   ]
  },
  {
   "cell_type": "code",
   "execution_count": 84,
   "metadata": {
    "ExecuteTime": {
     "end_time": "2019-07-01T12:10:02.908124Z",
     "start_time": "2019-07-01T12:10:02.658299Z"
    },
    "colab": {},
    "colab_type": "code",
    "id": "yi2FzC3T21jR"
   },
   "outputs": [
    {
     "data": {
      "text/html": [
       "<div>\n",
       "<style scoped>\n",
       "    .dataframe tbody tr th:only-of-type {\n",
       "        vertical-align: middle;\n",
       "    }\n",
       "\n",
       "    .dataframe tbody tr th {\n",
       "        vertical-align: top;\n",
       "    }\n",
       "\n",
       "    .dataframe thead th {\n",
       "        text-align: right;\n",
       "    }\n",
       "</style>\n",
       "<table border=\"1\" class=\"dataframe\">\n",
       "  <thead>\n",
       "    <tr style=\"text-align: right;\">\n",
       "      <th></th>\n",
       "      <th>count</th>\n",
       "      <th>mean</th>\n",
       "      <th>std</th>\n",
       "      <th>min</th>\n",
       "      <th>25%</th>\n",
       "      <th>50%</th>\n",
       "      <th>75%</th>\n",
       "      <th>max</th>\n",
       "    </tr>\n",
       "  </thead>\n",
       "  <tbody>\n",
       "    <tr>\n",
       "      <th>create_hour</th>\n",
       "      <td>892518.0</td>\n",
       "      <td>14.214483</td>\n",
       "      <td>5.773804</td>\n",
       "      <td>0.0</td>\n",
       "      <td>9.0</td>\n",
       "      <td>15.0</td>\n",
       "      <td>19.0</td>\n",
       "      <td>23.0</td>\n",
       "    </tr>\n",
       "    <tr>\n",
       "      <th>estimate_distance</th>\n",
       "      <td>892518.0</td>\n",
       "      <td>11039.595595</td>\n",
       "      <td>9939.829272</td>\n",
       "      <td>0.0</td>\n",
       "      <td>4777.0</td>\n",
       "      <td>8468.0</td>\n",
       "      <td>14603.0</td>\n",
       "      <td>499426.0</td>\n",
       "    </tr>\n",
       "    <tr>\n",
       "      <th>estimate_term</th>\n",
       "      <td>892518.0</td>\n",
       "      <td>19.397473</td>\n",
       "      <td>14.302898</td>\n",
       "      <td>0.0</td>\n",
       "      <td>9.0</td>\n",
       "      <td>16.0</td>\n",
       "      <td>26.0</td>\n",
       "      <td>497.0</td>\n",
       "    </tr>\n",
       "    <tr>\n",
       "      <th>unreserve</th>\n",
       "      <td>892518.0</td>\n",
       "      <td>0.245414</td>\n",
       "      <td>0.430332</td>\n",
       "      <td>0.0</td>\n",
       "      <td>0.0</td>\n",
       "      <td>0.0</td>\n",
       "      <td>0.0</td>\n",
       "      <td>1.0</td>\n",
       "    </tr>\n",
       "    <tr>\n",
       "      <th>reserved_failed</th>\n",
       "      <td>892518.0</td>\n",
       "      <td>0.189063</td>\n",
       "      <td>0.391559</td>\n",
       "      <td>0.0</td>\n",
       "      <td>0.0</td>\n",
       "      <td>0.0</td>\n",
       "      <td>0.0</td>\n",
       "      <td>1.0</td>\n",
       "    </tr>\n",
       "    <tr>\n",
       "      <th>success</th>\n",
       "      <td>892518.0</td>\n",
       "      <td>0.565524</td>\n",
       "      <td>0.495688</td>\n",
       "      <td>0.0</td>\n",
       "      <td>0.0</td>\n",
       "      <td>1.0</td>\n",
       "      <td>1.0</td>\n",
       "      <td>1.0</td>\n",
       "    </tr>\n",
       "  </tbody>\n",
       "</table>\n",
       "</div>"
      ],
      "text/plain": [
       "                      count          mean          std  min     25%     50%  \\\n",
       "create_hour        892518.0     14.214483     5.773804  0.0     9.0    15.0   \n",
       "estimate_distance  892518.0  11039.595595  9939.829272  0.0  4777.0  8468.0   \n",
       "estimate_term      892518.0     19.397473    14.302898  0.0     9.0    16.0   \n",
       "unreserve          892518.0      0.245414     0.430332  0.0     0.0     0.0   \n",
       "reserved_failed    892518.0      0.189063     0.391559  0.0     0.0     0.0   \n",
       "success            892518.0      0.565524     0.495688  0.0     0.0     1.0   \n",
       "\n",
       "                       75%       max  \n",
       "create_hour           19.0      23.0  \n",
       "estimate_distance  14603.0  499426.0  \n",
       "estimate_term         26.0     497.0  \n",
       "unreserve              0.0       1.0  \n",
       "reserved_failed        0.0       1.0  \n",
       "success                1.0       1.0  "
      ]
     },
     "execution_count": 84,
     "metadata": {},
     "output_type": "execute_result"
    }
   ],
   "source": [
    "train_stats = train_dataset.describe()\n",
    "train_stats.pop(\"estimate_money\")\n",
    "train_stats = train_stats.transpose()\n",
    "train_stats"
   ]
  },
  {
   "cell_type": "markdown",
   "metadata": {
    "colab_type": "text",
    "id": "Db7Auq1yXUvh"
   },
   "source": [
    "### Split features from labels\n",
    "\n",
    "Separate the target value, or \"label\", from the features. This label is the value that you will train the model to predict."
   ]
  },
  {
   "cell_type": "code",
   "execution_count": 14,
   "metadata": {
    "colab": {},
    "colab_type": "code",
    "id": "t2sluJdCW7jN"
   },
   "outputs": [],
   "source": [
    "train_labels = train_dataset.pop('MPG')\n",
    "test_labels = test_dataset.pop('MPG')"
   ]
  },
  {
   "cell_type": "markdown",
   "metadata": {
    "colab_type": "text",
    "id": "mRklxK5s388r"
   },
   "source": [
    "### Normalize the data\n",
    "\n",
    "Look again at the `train_stats` block above and note how different the ranges of each feature are."
   ]
  },
  {
   "cell_type": "markdown",
   "metadata": {
    "colab_type": "text",
    "id": "-ywmerQ6dSox"
   },
   "source": [
    "It is good practice to normalize features that use different scales and ranges. Although the model *might* converge without feature normalization, it makes training more difficult, and it makes the resulting model dependent on the choice of units used in the input.\n",
    "\n",
    "Note: Although we intentionally generate these statistics from only the training dataset, these statistics will also be used to normalize the test dataset. We need to do that to project the test dataset into the same distribution that the model has been trained on."
   ]
  },
  {
   "cell_type": "code",
   "execution_count": 15,
   "metadata": {
    "colab": {},
    "colab_type": "code",
    "id": "JlC5ooJrgjQF"
   },
   "outputs": [],
   "source": [
    "def norm(x):\n",
    "  return (x - train_stats['mean']) / train_stats['std']\n",
    "normed_train_data = norm(train_dataset)\n",
    "normed_test_data = norm(test_dataset)"
   ]
  },
  {
   "cell_type": "markdown",
   "metadata": {
    "colab_type": "text",
    "id": "BuiClDk45eS4"
   },
   "source": [
    "This normalized data is what we will use to train the model.\n",
    "\n",
    "Caution: The statistics used to normalize the inputs here (mean and standard deviation) need to be applied to any other data that is fed to the model, along with the one-hot encoding that we did earlier.  That includes the test set as well as live data when the model is used in production."
   ]
  },
  {
   "cell_type": "markdown",
   "metadata": {
    "colab_type": "text",
    "id": "SmjdzxKzEu1-"
   },
   "source": [
    "## The model"
   ]
  },
  {
   "cell_type": "markdown",
   "metadata": {
    "colab_type": "text",
    "id": "6SWtkIjhrZwa"
   },
   "source": [
    "### Build the model\n",
    "\n",
    "Let's build our model. Here, we'll use a `Sequential` model with two densely connected hidden layers, and an output layer that returns a single, continuous value. The model building steps are wrapped in a function, `build_model`, since we'll create a second model, later on."
   ]
  },
  {
   "cell_type": "code",
   "execution_count": 16,
   "metadata": {
    "colab": {},
    "colab_type": "code",
    "id": "c26juK7ZG8j-"
   },
   "outputs": [],
   "source": [
    "def build_model():\n",
    "  model = keras.Sequential([\n",
    "    layers.Dense(64, activation='relu', input_shape=[len(train_dataset.keys())]),\n",
    "    layers.Dense(64, activation='relu'),\n",
    "    layers.Dense(1)\n",
    "  ])\n",
    "\n",
    "  optimizer = tf.keras.optimizers.RMSprop(0.001)\n",
    "\n",
    "  model.compile(loss='mse',\n",
    "                optimizer=optimizer,\n",
    "                metrics=['mae', 'mse'])\n",
    "  return model"
   ]
  },
  {
   "cell_type": "code",
   "execution_count": 17,
   "metadata": {
    "colab": {},
    "colab_type": "code",
    "id": "cGbPb-PHGbhs"
   },
   "outputs": [],
   "source": [
    "model = build_model()"
   ]
  },
  {
   "cell_type": "markdown",
   "metadata": {
    "colab_type": "text",
    "id": "Sj49Og4YGULr"
   },
   "source": [
    "### Inspect the model\n",
    "\n",
    "Use the `.summary` method to print a simple description of the model"
   ]
  },
  {
   "cell_type": "code",
   "execution_count": 18,
   "metadata": {
    "colab": {},
    "colab_type": "code",
    "id": "ReAD0n6MsFK-"
   },
   "outputs": [
    {
     "name": "stdout",
     "output_type": "stream",
     "text": [
      "Model: \"sequential\"\n",
      "_________________________________________________________________\n",
      "Layer (type)                 Output Shape              Param #   \n",
      "=================================================================\n",
      "dense (Dense)                (None, 64)                640       \n",
      "_________________________________________________________________\n",
      "dense_1 (Dense)              (None, 64)                4160      \n",
      "_________________________________________________________________\n",
      "dense_2 (Dense)              (None, 1)                 65        \n",
      "=================================================================\n",
      "Total params: 4,865\n",
      "Trainable params: 4,865\n",
      "Non-trainable params: 0\n",
      "_________________________________________________________________\n"
     ]
    }
   ],
   "source": [
    "model.summary()"
   ]
  },
  {
   "cell_type": "markdown",
   "metadata": {
    "colab_type": "text",
    "id": "Vt6W50qGsJAL"
   },
   "source": [
    "\n",
    "Now try out the model. Take a batch of `10` examples from the training data and call `model.predict` on it."
   ]
  },
  {
   "cell_type": "code",
   "execution_count": 19,
   "metadata": {
    "colab": {},
    "colab_type": "code",
    "id": "-d-gBaVtGTSC"
   },
   "outputs": [
    {
     "data": {
      "text/plain": [
       "array([[ 0.07696093],\n",
       "       [-0.22839378],\n",
       "       [-0.26313013],\n",
       "       [-0.24001728],\n",
       "       [-0.2501344 ],\n",
       "       [-0.14837112],\n",
       "       [-0.2782847 ],\n",
       "       [ 0.28267416],\n",
       "       [-0.02616448],\n",
       "       [-0.17206685]], dtype=float32)"
      ]
     },
     "execution_count": 19,
     "metadata": {},
     "output_type": "execute_result"
    }
   ],
   "source": [
    "example_batch = normed_train_data[:10]\n",
    "example_result = model.predict(example_batch)\n",
    "example_result"
   ]
  },
  {
   "cell_type": "markdown",
   "metadata": {
    "colab_type": "text",
    "id": "QlM8KrSOsaYo"
   },
   "source": [
    "It seems to be working, and it produces a result of the expected shape and type."
   ]
  },
  {
   "cell_type": "markdown",
   "metadata": {
    "colab_type": "text",
    "id": "0-qWCsh6DlyH"
   },
   "source": [
    "### Train the model\n",
    "\n",
    "Train the model for 1000 epochs, and record the training and validation accuracy in the `history` object."
   ]
  },
  {
   "cell_type": "code",
   "execution_count": 20,
   "metadata": {
    "colab": {},
    "colab_type": "code",
    "id": "sD7qHCmNIOY0"
   },
   "outputs": [
    {
     "name": "stdout",
     "output_type": "stream",
     "text": [
      "\n",
      "....................................................................................................\n",
      "....................................................................................................\n",
      "....................................................................................................\n",
      "....................................................................................................\n",
      "....................................................................................................\n",
      "....................................................................................................\n",
      "....................................................................................................\n",
      "....................................................................................................\n",
      "....................................................................................................\n",
      "...................................................................................................."
     ]
    }
   ],
   "source": [
    "# Display training progress by printing a single dot for each completed epoch\n",
    "class PrintDot(keras.callbacks.Callback):\n",
    "  def on_epoch_end(self, epoch, logs):\n",
    "    if epoch % 100 == 0: print('')\n",
    "    print('.', end='')\n",
    "\n",
    "EPOCHS = 1000\n",
    "\n",
    "history = model.fit(\n",
    "  normed_train_data, train_labels,\n",
    "  epochs=EPOCHS, validation_split = 0.2, verbose=0,\n",
    "  callbacks=[PrintDot()])"
   ]
  },
  {
   "cell_type": "markdown",
   "metadata": {
    "colab_type": "text",
    "id": "tQm3pc0FYPQB"
   },
   "source": [
    "Visualize the model's training progress using the stats stored in the `history` object."
   ]
  },
  {
   "cell_type": "code",
   "execution_count": 21,
   "metadata": {
    "colab": {},
    "colab_type": "code",
    "id": "4Xj91b-dymEy"
   },
   "outputs": [
    {
     "data": {
      "text/html": [
       "<div>\n",
       "<style scoped>\n",
       "    .dataframe tbody tr th:only-of-type {\n",
       "        vertical-align: middle;\n",
       "    }\n",
       "\n",
       "    .dataframe tbody tr th {\n",
       "        vertical-align: top;\n",
       "    }\n",
       "\n",
       "    .dataframe thead th {\n",
       "        text-align: right;\n",
       "    }\n",
       "</style>\n",
       "<table border=\"1\" class=\"dataframe\">\n",
       "  <thead>\n",
       "    <tr style=\"text-align: right;\">\n",
       "      <th></th>\n",
       "      <th>loss</th>\n",
       "      <th>mae</th>\n",
       "      <th>mse</th>\n",
       "      <th>val_loss</th>\n",
       "      <th>val_mae</th>\n",
       "      <th>val_mse</th>\n",
       "      <th>epoch</th>\n",
       "    </tr>\n",
       "  </thead>\n",
       "  <tbody>\n",
       "    <tr>\n",
       "      <th>995</th>\n",
       "      <td>3.145579</td>\n",
       "      <td>1.176461</td>\n",
       "      <td>3.145579</td>\n",
       "      <td>9.293846</td>\n",
       "      <td>2.259158</td>\n",
       "      <td>9.293846</td>\n",
       "      <td>995</td>\n",
       "    </tr>\n",
       "    <tr>\n",
       "      <th>996</th>\n",
       "      <td>3.244271</td>\n",
       "      <td>1.187563</td>\n",
       "      <td>3.244271</td>\n",
       "      <td>8.998797</td>\n",
       "      <td>2.252367</td>\n",
       "      <td>8.998796</td>\n",
       "      <td>996</td>\n",
       "    </tr>\n",
       "    <tr>\n",
       "      <th>997</th>\n",
       "      <td>3.334478</td>\n",
       "      <td>1.219777</td>\n",
       "      <td>3.334477</td>\n",
       "      <td>8.993284</td>\n",
       "      <td>2.240390</td>\n",
       "      <td>8.993284</td>\n",
       "      <td>997</td>\n",
       "    </tr>\n",
       "    <tr>\n",
       "      <th>998</th>\n",
       "      <td>3.241860</td>\n",
       "      <td>1.166121</td>\n",
       "      <td>3.241860</td>\n",
       "      <td>8.646852</td>\n",
       "      <td>2.200708</td>\n",
       "      <td>8.646852</td>\n",
       "      <td>998</td>\n",
       "    </tr>\n",
       "    <tr>\n",
       "      <th>999</th>\n",
       "      <td>3.190398</td>\n",
       "      <td>1.216506</td>\n",
       "      <td>3.190398</td>\n",
       "      <td>8.841792</td>\n",
       "      <td>2.350644</td>\n",
       "      <td>8.841793</td>\n",
       "      <td>999</td>\n",
       "    </tr>\n",
       "  </tbody>\n",
       "</table>\n",
       "</div>"
      ],
      "text/plain": [
       "         loss       mae       mse  val_loss   val_mae   val_mse  epoch\n",
       "995  3.145579  1.176461  3.145579  9.293846  2.259158  9.293846    995\n",
       "996  3.244271  1.187563  3.244271  8.998797  2.252367  8.998796    996\n",
       "997  3.334478  1.219777  3.334477  8.993284  2.240390  8.993284    997\n",
       "998  3.241860  1.166121  3.241860  8.646852  2.200708  8.646852    998\n",
       "999  3.190398  1.216506  3.190398  8.841792  2.350644  8.841793    999"
      ]
     },
     "execution_count": 21,
     "metadata": {},
     "output_type": "execute_result"
    }
   ],
   "source": [
    "hist = pd.DataFrame(history.history)\n",
    "hist['epoch'] = history.epoch\n",
    "hist.tail()"
   ]
  },
  {
   "cell_type": "code",
   "execution_count": 22,
   "metadata": {
    "colab": {},
    "colab_type": "code",
    "id": "B6XriGbVPh2t"
   },
   "outputs": [
    {
     "data": {
      "image/png": "[encoded data removed]",
      "text/plain": [
       "<Figure size 432x288 with 1 Axes>"
      ]
     },
     "metadata": {
      "needs_background": "light"
     },
     "output_type": "display_data"
    },
    {
     "data": {
      "image/png": "[encoded data removed]",
      "text/plain": [
       "<Figure size 432x288 with 1 Axes>"
      ]
     },
     "metadata": {
      "needs_background": "light"
     },
     "output_type": "display_data"
    }
   ],
   "source": [
    "def plot_history(history):\n",
    "  hist = pd.DataFrame(history.history)\n",
    "  hist['epoch'] = history.epoch\n",
    "\n",
    "  plt.figure()\n",
    "  plt.xlabel('Epoch')\n",
    "  plt.ylabel('Mean Abs Error [MPG]')\n",
    "  plt.plot(hist['epoch'], hist['mae'],\n",
    "           label='Train Error')\n",
    "  plt.plot(hist['epoch'], hist['val_mae'],\n",
    "           label = 'Val Error')\n",
    "  plt.ylim([0,5])\n",
    "  plt.legend()\n",
    "\n",
    "  plt.figure()\n",
    "  plt.xlabel('Epoch')\n",
    "  plt.ylabel('Mean Square Error [$MPG^2$]')\n",
    "  plt.plot(hist['epoch'], hist['mse'],\n",
    "           label='Train Error')\n",
    "  plt.plot(hist['epoch'], hist['val_mse'],\n",
    "           label = 'Val Error')\n",
    "  plt.ylim([0,20])\n",
    "  plt.legend()\n",
    "  plt.show()\n",
    "\n",
    "\n",
    "plot_history(history)"
   ]
  },
  {
   "cell_type": "markdown",
   "metadata": {
    "colab_type": "text",
    "id": "AqsuANc11FYv"
   },
   "source": [
    "This graph shows little improvement, or even degradation in the validation error after about 100 epochs. Let's update the `model.fit` call to automatically stop training when the validation score doesn't improve. We'll use an *EarlyStopping callback* that tests a training condition for  every epoch. If a set amount of epochs elapses without showing improvement, then automatically stop the training.\n",
    "\n",
    "You can learn more about this callback [here](https://www.tensorflow.org/versions/master/api_docs/python/tf/keras/callbacks/EarlyStopping)."
   ]
  },
  {
   "cell_type": "code",
   "execution_count": 23,
   "metadata": {
    "colab": {},
    "colab_type": "code",
    "id": "fdMZuhUgzMZ4"
   },
   "outputs": [
    {
     "name": "stdout",
     "output_type": "stream",
     "text": [
      "\n",
      "....................................................................................................\n",
      "...................."
     ]
    },
    {
     "data": {
      "image/png": "[encoded data removed]",
      "text/plain": [
       "<Figure size 432x288 with 1 Axes>"
      ]
     },
     "metadata": {
      "needs_background": "light"
     },
     "output_type": "display_data"
    },
    {
     "data": {
      "image/png": "[encoded data removed]",
      "text/plain": [
       "<Figure size 432x288 with 1 Axes>"
      ]
     },
     "metadata": {
      "needs_background": "light"
     },
     "output_type": "display_data"
    }
   ],
   "source": [
    "model = build_model()\n",
    "\n",
    "# The patience parameter is the amount of epochs to check for improvement\n",
    "early_stop = keras.callbacks.EarlyStopping(monitor='val_loss', patience=10)\n",
    "\n",
    "history = model.fit(normed_train_data, train_labels, epochs=EPOCHS,\n",
    "                    validation_split = 0.2, verbose=0, callbacks=[early_stop, PrintDot()])\n",
    "\n",
    "plot_history(history)"
   ]
  },
  {
   "cell_type": "markdown",
   "metadata": {
    "colab_type": "text",
    "id": "3St8-DmrX8P4"
   },
   "source": [
    "The graph shows that on the validation set, the average error is usually around +/- 2 MPG. Is this good? We'll leave that decision up to you.\n",
    "\n",
    "Let's see how well the model generalizes by using the **test** set, which we did not use when training the model.  This tells us how well we can expect the model to predict when we use it in the real world."
   ]
  },
  {
   "cell_type": "code",
   "execution_count": 24,
   "metadata": {
    "colab": {},
    "colab_type": "code",
    "id": "jl_yNr5n1kms"
   },
   "outputs": [
    {
     "name": "stdout",
     "output_type": "stream",
     "text": [
      "Testing set Mean Abs Error:  1.79 MPG\n"
     ]
    }
   ],
   "source": [
    "loss, mae, mse = model.evaluate(normed_test_data, test_labels, verbose=0)\n",
    "\n",
    "print(\"Testing set Mean Abs Error: {:5.2f} MPG\".format(mae))"
   ]
  },
  {
   "cell_type": "markdown",
   "metadata": {
    "colab_type": "text",
    "id": "ft603OzXuEZC"
   },
   "source": [
    "### Make predictions\n",
    "\n",
    "Finally, predict MPG values using data in the testing set:"
   ]
  },
  {
   "cell_type": "code",
   "execution_count": 25,
   "metadata": {
    "colab": {},
    "colab_type": "code",
    "id": "Xe7RXH3N3CWU"
   },
   "outputs": [
    {
     "data": {
      "image/png": "[encoded data removed]",
      "text/plain": [
       "<Figure size 432x288 with 1 Axes>"
      ]
     },
     "metadata": {
      "needs_background": "light"
     },
     "output_type": "display_data"
    }
   ],
   "source": [
    "test_predictions = model.predict(normed_test_data).flatten()\n",
    "\n",
    "plt.scatter(test_labels, test_predictions)\n",
    "plt.xlabel('True Values [MPG]')\n",
    "plt.ylabel('Predictions [MPG]')\n",
    "plt.axis('equal')\n",
    "plt.axis('square')\n",
    "plt.xlim([0,plt.xlim()[1]])\n",
    "plt.ylim([0,plt.ylim()[1]])\n",
    "_ = plt.plot([-100, 100], [-100, 100])\n"
   ]
  },
  {
   "cell_type": "markdown",
   "metadata": {
    "colab_type": "text",
    "id": "19wyogbOSU5t"
   },
   "source": [
    "It looks like our model predicts reasonably well. Let's take a look at the error distribution."
   ]
  },
  {
   "cell_type": "code",
   "execution_count": 26,
   "metadata": {
    "colab": {},
    "colab_type": "code",
    "id": "f-OHX4DiXd8x"
   },
   "outputs": [
    {
     "data": {
      "image/png": "[encoded data removed]",
      "text/plain": [
       "<Figure size 432x288 with 1 Axes>"
      ]
     },
     "metadata": {
      "needs_background": "light"
     },
     "output_type": "display_data"
    }
   ],
   "source": [
    "error = test_predictions - test_labels\n",
    "plt.hist(error, bins = 25)\n",
    "plt.xlabel(\"Prediction Error [MPG]\")\n",
    "_ = plt.ylabel(\"Count\")"
   ]
  },
  {
   "cell_type": "markdown",
   "metadata": {
    "colab_type": "text",
    "id": "m0CB5tBjSU5w"
   },
   "source": [
    "It's not quite gaussian, but we might expect that because the number of samples is very small."
   ]
  },
  {
   "cell_type": "markdown",
   "metadata": {
    "colab_type": "text",
    "id": "vgGQuV-yqYZH"
   },
   "source": [
    "## Conclusion\n",
    "\n",
    "This notebook introduced a few techniques to handle a regression problem.\n",
    "\n",
    "* Mean Squared Error (MSE) is a common loss function used for regression problems (different loss functions are used for classification problems).\n",
    "* Similarly, evaluation metrics used for regression differ from classification. A common regression metric is Mean Absolute Error (MAE).\n",
    "* When numeric input data features have values with different ranges, each feature should be scaled independently to the same range.\n",
    "* If there is not much training data, one technique is to prefer a small network with few hidden layers to avoid overfitting.\n",
    "* Early stopping is a useful technique to prevent overfitting."
   ]
  }
 ],
 "metadata": {
  "colab": {
   "collapsed_sections": [],
   "name": "basic_regression.ipynb",
   "private_outputs": true,
   "provenance": [],
   "toc_visible": true,
   "version": "0.3.2"
  },
  "kernelspec": {
   "display_name": "Python 3",
   "language": "python",
   "name": "python3"
  },
  "language_info": {
   "codemirror_mode": {
    "name": "ipython",
    "version": 3
   },
   "file_extension": ".py",
   "mimetype": "text/x-python",
   "name": "python",
   "nbconvert_exporter": "python",
   "pygments_lexer": "ipython3",
   "version": "3.7.3"
  },
  "toc": {
   "base_numbering": 1,
   "nav_menu": {},
   "number_sections": true,
   "sideBar": true,
   "skip_h1_title": false,
   "title_cell": "Table of Contents",
   "title_sidebar": "Contents",
   "toc_cell": false,
   "toc_position": {},
   "toc_section_display": true,
   "toc_window_display": false
  },
  "varInspector": {
   "cols": {
    "lenName": 16,
    "lenType": 16,
    "lenVar": 40
   },
   "kernels_config": {
    "python": {
     "delete_cmd_postfix": "",
     "delete_cmd_prefix": "del ",
     "library": "var_list.py",
     "varRefreshCmd": "print(var_dic_list())"
    },
    "r": {
     "delete_cmd_postfix": ") ",
     "delete_cmd_prefix": "rm(",
     "library": "var_list.r",
     "varRefreshCmd": "cat(var_dic_list()) "
    }
   },
   "types_to_exclude": [
    "module",
    "function",
    "builtin_function_or_method",
    "instance",
    "_Feature"
   ],
   "window_display": false
  }
 },
 "nbformat": 4,
 "nbformat_minor": 1
}
